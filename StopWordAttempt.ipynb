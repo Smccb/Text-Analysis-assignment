{
 "cells": [
  {
   "cell_type": "code",
   "execution_count": 1,
   "metadata": {},
   "outputs": [
    {
     "name": "stdout",
     "output_type": "stream",
     "text": [
      "isSarcastic    39780\n",
      "text           39780\n",
      "dtype: int64\n",
      "\n",
      "\n",
      "Number of rows for each value in the 'isSarcastic' column:\n",
      "isSarcastic\n",
      "0    21292\n",
      "1    18488\n",
      "Name: count, dtype: int64\n"
     ]
    }
   ],
   "source": [
    "\n",
    "import pandas as pd\n",
    "import My_Preprocessing as prep_funct\n",
    "\n",
    "#prep_funct.remove_Sarcasm_hashtag()\n",
    "\n",
    "dataset = pd.read_json(\"cleaned_#sarcasm.json\")\n",
    "\n",
    "print(dataset.count())\n",
    "\n",
    "# Assuming \"is_sarcastic\" is the column you're interested in\n",
    "sarcastic_counts = dataset['isSarcastic'].value_counts()\n",
    "\n",
    "print()\n",
    "print()\n",
    "\n",
    "# Display the result\n",
    "print(\"Number of rows for each value in the 'isSarcastic' column:\")\n",
    "print(sarcastic_counts)"
   ]
  },
  {
   "cell_type": "code",
   "execution_count": 2,
   "metadata": {},
   "outputs": [
    {
     "name": "stdout",
     "output_type": "stream",
     "text": [
      "19890\n"
     ]
    }
   ],
   "source": [
    "# Assuming 'dataset' is your DataFrame\n",
    "# Shuffle the dataset\n",
    "dataset_shuffled = dataset.sample(frac=1, random_state=42)\n",
    "\n",
    "data_sample = len(dataset) // 2\n",
    "\n",
    "# Take the first quarter of the shuffled dataset\n",
    "dataset = dataset_shuffled.iloc[:data_sample]\n",
    "\n",
    "# Now, quarter_dataset contains a representative 1/4 subset of your original dataset\n",
    "\n",
    "\n",
    "total_rows = len(dataset)\n",
    "print(total_rows)"
   ]
  },
  {
   "cell_type": "code",
   "execution_count": 3,
   "metadata": {},
   "outputs": [],
   "source": [
    "from sklearn.model_selection import train_test_split\n",
    "\n",
    "# Split the dataset into training and testing sets\n",
    "X_train, X_test, y_train, y_test = train_test_split(dataset['text'], dataset['isSarcastic'], test_size=0.3, random_state=42)"
   ]
  },
  {
   "cell_type": "code",
   "execution_count": null,
   "metadata": {},
   "outputs": [],
   "source": [
    "import text_mining_utils as tmu\n",
    "\n",
    "dataset = tmu.remove_sw_punct()"
   ]
  }
 ],
 "metadata": {
  "kernelspec": {
   "display_name": ".venv",
   "language": "python",
   "name": "python3"
  },
  "language_info": {
   "codemirror_mode": {
    "name": "ipython",
    "version": 3
   },
   "file_extension": ".py",
   "mimetype": "text/x-python",
   "name": "python",
   "nbconvert_exporter": "python",
   "pygments_lexer": "ipython3",
   "version": "3.10.0"
  }
 },
 "nbformat": 4,
 "nbformat_minor": 2
}
